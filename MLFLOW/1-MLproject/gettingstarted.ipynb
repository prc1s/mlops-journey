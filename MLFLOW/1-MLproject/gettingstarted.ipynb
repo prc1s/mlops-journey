{
 "cells": [
  {
   "cell_type": "markdown",
   "id": "86778b50",
   "metadata": {},
   "source": [
    "MLFlow Tracking Server"
   ]
  },
  {
   "cell_type": "code",
   "execution_count": 1,
   "id": "42bcb2ae",
   "metadata": {},
   "outputs": [],
   "source": [
    "import mlflow"
   ]
  },
  {
   "cell_type": "code",
   "execution_count": 4,
   "id": "c80cb1f5",
   "metadata": {},
   "outputs": [],
   "source": [
    "mlflow.set_tracking_uri(\"http://127.0.0.1:5000\")"
   ]
  },
  {
   "cell_type": "code",
   "execution_count": 10,
   "id": "b6c88889",
   "metadata": {},
   "outputs": [
    {
     "name": "stdout",
     "output_type": "stream",
     "text": [
      "🏃 View run sassy-ram-270 at: http://127.0.0.1:5000/#/experiments/690897750668535828/runs/0779e55c13ac4380abbcdd403a493171\n",
      "🧪 View experiment at: http://127.0.0.1:5000/#/experiments/690897750668535828\n"
     ]
    }
   ],
   "source": [
    "mlflow.set_experiment(\"Check Local Host Connection\")\n",
    "\n",
    "with mlflow.start_run():\n",
    "    mlflow.log_metric(\"test 1\", 1)\n",
    "    mlflow.log_metric(\"test 2\", 2)\n",
    "    \n"
   ]
  },
  {
   "cell_type": "code",
   "execution_count": null,
   "id": "af029e37",
   "metadata": {},
   "outputs": [],
   "source": []
  }
 ],
 "metadata": {
  "kernelspec": {
   "display_name": "Python 3",
   "language": "python",
   "name": "python3"
  },
  "language_info": {
   "codemirror_mode": {
    "name": "ipython",
    "version": 3
   },
   "file_extension": ".py",
   "mimetype": "text/x-python",
   "name": "python",
   "nbconvert_exporter": "python",
   "pygments_lexer": "ipython3",
   "version": "3.10.0"
  }
 },
 "nbformat": 4,
 "nbformat_minor": 5
}
